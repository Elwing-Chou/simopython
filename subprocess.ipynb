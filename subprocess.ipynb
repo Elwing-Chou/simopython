{
 "cells": [
  {
   "cell_type": "markdown",
   "metadata": {},
   "source": [
    "# Subprocess"
   ]
  },
  {
   "cell_type": "code",
   "execution_count": null,
   "metadata": {},
   "outputs": [],
   "source": [
    "import subprocess\n",
    "f1 = open(\"out.txt\", \"w\")\n",
    "f2 = open(\"error.txt\", \"w\")\n",
    "p = subprocess.Popen([r\"python\"],\n",
    "                     stdin=subprocess.PIPE,\n",
    "                     stdout=f1,\n",
    "                     stderr=f2)\n",
    "\n",
    "p.stdin.write(b\"print(3+2+4)\\n\")\n",
    "p.stdin.flush()\n",
    "p.stdin.write(b\"print(3+2+4+1243241)\\n\")\n",
    "p.stdin.flush()\n",
    "p.stdin.write(b\"print(2/0)\\n\")\n",
    "p.stdin.flush()\n",
    "f1.close()\n",
    "f2.close()"
   ]
  },
  {
   "cell_type": "markdown",
   "metadata": {},
   "source": [
    "```python\n",
    "# testinput.py\n",
    "count = 0\n",
    "while True:\n",
    "    a = input(\"enter:\")\n",
    "    if a == \"exit\":\n",
    "        break\n",
    "    print(count, \"your input:\", a)\n",
    "    count = count + 1\n",
    "```"
   ]
  },
  {
   "cell_type": "code",
   "execution_count": null,
   "metadata": {},
   "outputs": [],
   "source": [
    "import sys\n",
    "if sys.platform == \"win32\":\n",
    "    from pexpect.popen_spawn import PopenSpawn as spawn\n",
    "else:\n",
    "    from pexpect import spawnu as spawn\n",
    "import pexpect\n",
    "\n",
    "cmd = \"python testinput.py\"\n",
    "process = spawn(cmd)\n",
    "process.expect(\"enter:\")\n",
    "for i in range(10):\n",
    "    process.sendline(\"apple\")\n",
    "    process.expect(\"enter:\")\n",
    "    print(process.before)\n",
    "process.sendline(\"exit\")\n",
    "process.expect(pexpect.EOF)\n",
    "print(\"End of PexpectTest.py\")"
   ]
  },
  {
   "cell_type": "code",
   "execution_count": null,
   "metadata": {},
   "outputs": [],
   "source": [
    "import sys\n",
    "if sys.platform == \"win32\":\n",
    "    from pexpect.popen_spawn import PopenSpawn as spawn\n",
    "else:\n",
    "    from pexpect import spawnu as spawn\n",
    "import pexpect\n",
    "\n",
    "c = pexpect.spawnu('python')\n",
    "c.expect('>>>')\n",
    "c.sendline(\"print(3+3.14)\")\n",
    "c.expect('>>>')\n",
    "print(\"result:\", c.before)\n",
    "c.sendline(\"print(3+2.14)\")\n",
    "c.expect('>>>')\n",
    "print(\"result:\", c.before)\n",
    "c.close()\n",
    "print('is alive:', c.isalive())"
   ]
  }
 ],
 "metadata": {
  "kernelspec": {
   "display_name": "Python 3",
   "language": "python",
   "name": "python3"
  },
  "language_info": {
   "codemirror_mode": {
    "name": "ipython",
    "version": 3
   },
   "file_extension": ".py",
   "mimetype": "text/x-python",
   "name": "python",
   "nbconvert_exporter": "python",
   "pygments_lexer": "ipython3",
   "version": "3.7.5"
  }
 },
 "nbformat": 4,
 "nbformat_minor": 4
}
